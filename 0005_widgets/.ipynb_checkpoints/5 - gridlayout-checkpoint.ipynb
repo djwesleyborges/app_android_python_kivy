{
 "cells": [
  {
   "cell_type": "code",
   "execution_count": 1,
   "metadata": {},
   "outputs": [
    {
     "name": "stderr",
     "output_type": "stream",
     "text": [
      "[INFO   ] [Logger      ] Record log in /home/ubuntu/.kivy/logs/kivy_18-10-16_48.txt\n",
      "[INFO   ] [Factory     ] 194 symbols loaded\n",
      "[INFO   ] [Image       ] Providers: img_tex, img_dds, img_sdl2, img_gif (img_pil, img_ffpyplayer ignored)\n",
      "[INFO   ] [Text        ] Provider: sdl2\n",
      "[INFO   ] [Kivy        ] v1.10.1\n",
      "[INFO   ] [Python      ] v3.5.2 (default, Nov 23 2017, 16:37:01) \n",
      "[GCC 5.4.0 20160609]\n",
      "[WARNING] Call to deprecated function __init__ in /home/ubuntu/Envs/k34/lib/python3.5/site-packages/kivy/interactive.py line 308.Called from <ipython-input-2-14669b0ebc63> line 5 by <module>().\n",
      "[INFO   ] [Window      ] Provider: sdl2(['window_egl_rpi'] ignored)\n",
      "[INFO   ] [GL          ] Using the \"OpenGL\" graphics system\n",
      "[INFO   ] [GL          ] Backend used <gl>\n",
      "[INFO   ] [GL          ] OpenGL version <b'3.0 Mesa 18.0.5'>\n",
      "[INFO   ] [GL          ] OpenGL vendor <b'VMware, Inc.'>\n",
      "[INFO   ] [GL          ] OpenGL renderer <b'llvmpipe (LLVM 6.0, 256 bits)'>\n",
      "[INFO   ] [GL          ] OpenGL parsed version: 3, 0\n",
      "[INFO   ] [GL          ] Shading version <b'1.30'>\n",
      "[INFO   ] [GL          ] Texture max size <8192>\n",
      "[INFO   ] [GL          ] Texture max units <32>\n",
      "[INFO   ] [Window      ] auto add sdl2 input provider\n",
      "[INFO   ] [Window      ] virtual keyboard not allowed, single mode, not docked\n",
      "[INFO   ] [Base        ] Start application main loop\n",
      "[INFO   ] [GL          ] NPOT texture support is available\n",
      "[WARNING] <kivy.uix.gridlayout.GridLayout object at 0x7fa3ed13c800> have no cols or rows set, layout is not triggered.\n",
      "[WARNING] <kivy.uix.gridlayout.GridLayout object at 0x7fa3ed14d250> have no cols or rows set, layout is not triggered.\n",
      "[WARNING] <kivy.uix.gridlayout.GridLayout object at 0x7fa3ec622730> have no cols or rows set, layout is not triggered.\n",
      "[WARNING] <kivy.uix.gridlayout.GridLayout object at 0x7fa3ed14d2b8> have no cols or rows set, layout is not triggered.\n",
      "[WARNING] <kivy.uix.gridlayout.GridLayout object at 0x7fa3ec569118> have no cols or rows set, layout is not triggered.\n",
      "[WARNING] <kivy.uix.gridlayout.GridLayout object at 0x7fa3ec5696c8> have no cols or rows set, layout is not triggered.\n",
      "[WARNING] <kivy.uix.gridlayout.GridLayout object at 0x7fa3ec6221e8> have no cols or rows set, layout is not triggered.\n",
      "[WARNING] <kivy.uix.gridlayout.GridLayout object at 0x7fa3ec569b40> have no cols or rows set, layout is not triggered.\n",
      "[WARNING] <kivy.uix.gridlayout.GridLayout object at 0x7fa3ec569b40> have no cols or rows set, layout is not triggered.\n",
      "[WARNING] <kivy.uix.gridlayout.GridLayout object at 0x7fa3ec569528> have no cols or rows set, layout is not triggered.\n",
      "[WARNING] <kivy.uix.gridlayout.GridLayout object at 0x7fa3ec569528> have no cols or rows set, layout is not triggered.\n",
      "[WARNING] <kivy.uix.gridlayout.GridLayout object at 0x7fa3ec569a70> have no cols or rows set, layout is not triggered.\n",
      "[WARNING] <kivy.uix.gridlayout.GridLayout object at 0x7fa3ec5188d0> have no cols or rows set, layout is not triggered.\n",
      "[WARNING] <kivy.uix.gridlayout.GridLayout object at 0x7fa3ec5691e8> have no cols or rows set, layout is not triggered.\n",
      "[WARNING] <kivy.uix.gridlayout.GridLayout object at 0x7fa3ec518f50> have no cols or rows set, layout is not triggered.\n",
      "[WARNING] <kivy.uix.gridlayout.GridLayout object at 0x7fa3ec5180b0> have no cols or rows set, layout is not triggered.\n"
     ]
    }
   ],
   "source": [
    "#coding: utf-8\n",
    "\n",
    "from kivy.app import App\n",
    "from kivy.uix.button import Button\n",
    "from kivy.interactive import InteractiveLauncher\n",
    "from kivy.lang import Builder\n",
    "\n",
    "\"força a aplicação a nao iniciar em tela cheia\"\n",
    "from kivy.config import Config\n",
    "Config.set(\"graphics\", \"fullscreen\", \"0\")\n",
    "\n",
    "janela = None\n",
    "glayout = None"
   ]
  },
  {
   "cell_type": "code",
   "execution_count": 2,
   "metadata": {},
   "outputs": [],
   "source": [
    "class JanelaApp(App):\n",
    "    pass\n",
    "\n",
    "janela = JanelaApp()\n",
    "ji = InteractiveLauncher(janela)\n",
    "ji.run()"
   ]
  },
  {
   "cell_type": "code",
   "execution_count": 23,
   "metadata": {},
   "outputs": [],
   "source": [
    "kvcode = \"\"\"\n",
    "GridLayout:\n",
    "    cols: 3 # grade com 2 colunas\n",
    "    rows: None # grade com 2 linhas\n",
    "    \n",
    "    row_default_height: 50  # Altura que cada linha deve ter\n",
    "    row_force_default: True # Habilitando Altura\n",
    "    \n",
    "    #col_default_width: 50   # Altura que cada coluna deve ter\n",
    "    #col_force_default: True # Habilitando Altura\n",
    "    \n",
    "    Button:\n",
    "        text: \"A\"\n",
    "        size_hint: .3, None\n",
    "    Button:\n",
    "        text: \"B\"\n",
    "    Button:\n",
    "        text: \"C\"\n",
    "    Button:\n",
    "        text: \"D\"\n",
    "        size_hint: .3, None\n",
    "    Button:\n",
    "        text: \"E\"\n",
    "    Button:\n",
    "        text: \"F\"\n",
    "    Button:\n",
    "        text: \"G\"\n",
    "        size_hint: .3, None\n",
    "\"\"\"\n",
    "if(janela.root):\n",
    "    janela.root_window.remove_widget(janela.root)\n",
    "    janela.root = None\n",
    "    glayout = None\n",
    "\n",
    "janela.root = glayout = Builder.load_string(kvcode)\n",
    "janela.root_window.add_widget(glayout)"
   ]
  },
  {
   "cell_type": "code",
   "execution_count": null,
   "metadata": {},
   "outputs": [],
   "source": [
    "glayout.add_widget(Button(text=\"X\", size_hint=(1., 1.)))"
   ]
  },
  {
   "cell_type": "code",
   "execution_count": null,
   "metadata": {
    "scrolled": true
   },
   "outputs": [],
   "source": [
    "if(glayout.orientation == \"vertical\"):\n",
    "    glayout.orientation = \"horizontal\"\n",
    "else:\n",
    "    glayout.orientation = \"vertical\""
   ]
  },
  {
   "cell_type": "code",
   "execution_count": null,
   "metadata": {},
   "outputs": [],
   "source": [
    "glayout.add_widget(Button(text=\"x\", size_hint=(.33, .1)))"
   ]
  },
  {
   "cell_type": "code",
   "execution_count": null,
   "metadata": {},
   "outputs": [],
   "source": [
    "glayout.orientation = \"rl-bt\""
   ]
  },
  {
   "cell_type": "code",
   "execution_count": 8,
   "metadata": {},
   "outputs": [],
   "source": [
    "glayout.add_widget(Button(text=\"x\"))"
   ]
  },
  {
   "cell_type": "code",
   "execution_count": null,
   "metadata": {},
   "outputs": [],
   "source": []
  }
 ],
 "metadata": {
  "kernelspec": {
   "display_name": "Python 3",
   "language": "python",
   "name": "python3"
  },
  "language_info": {
   "codemirror_mode": {
    "name": "ipython",
    "version": 3
   },
   "file_extension": ".py",
   "mimetype": "text/x-python",
   "name": "python",
   "nbconvert_exporter": "python",
   "pygments_lexer": "ipython3",
   "version": "3.5.2"
  }
 },
 "nbformat": 4,
 "nbformat_minor": 1
}
